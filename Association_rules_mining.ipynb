{
 "cells": [
  {
   "cell_type": "code",
   "execution_count": 2,
   "metadata": {},
   "outputs": [
    {
     "name": "stdout",
     "output_type": "stream",
     "text": [
      "Collecting mlxtend\n",
      "  Downloading mlxtend-0.23.4-py3-none-any.whl.metadata (7.3 kB)\n",
      "Requirement already satisfied: scipy>=1.2.1 in d:\\software\\anaconda\\lib\\site-packages (from mlxtend) (1.13.1)\n",
      "Requirement already satisfied: numpy>=1.16.2 in d:\\software\\anaconda\\lib\\site-packages (from mlxtend) (1.26.4)\n",
      "Requirement already satisfied: pandas>=0.24.2 in d:\\software\\anaconda\\lib\\site-packages (from mlxtend) (2.2.2)\n",
      "Requirement already satisfied: scikit-learn>=1.3.1 in d:\\software\\anaconda\\lib\\site-packages (from mlxtend) (1.4.2)\n",
      "Requirement already satisfied: matplotlib>=3.0.0 in d:\\software\\anaconda\\lib\\site-packages (from mlxtend) (3.8.4)\n",
      "Requirement already satisfied: joblib>=0.13.2 in d:\\software\\anaconda\\lib\\site-packages (from mlxtend) (1.4.2)\n",
      "Requirement already satisfied: contourpy>=1.0.1 in d:\\software\\anaconda\\lib\\site-packages (from matplotlib>=3.0.0->mlxtend) (1.2.0)\n",
      "Requirement already satisfied: cycler>=0.10 in d:\\software\\anaconda\\lib\\site-packages (from matplotlib>=3.0.0->mlxtend) (0.11.0)\n",
      "Requirement already satisfied: fonttools>=4.22.0 in d:\\software\\anaconda\\lib\\site-packages (from matplotlib>=3.0.0->mlxtend) (4.51.0)\n",
      "Requirement already satisfied: kiwisolver>=1.3.1 in d:\\software\\anaconda\\lib\\site-packages (from matplotlib>=3.0.0->mlxtend) (1.4.4)\n",
      "Requirement already satisfied: packaging>=20.0 in d:\\software\\anaconda\\lib\\site-packages (from matplotlib>=3.0.0->mlxtend) (23.2)\n",
      "Requirement already satisfied: pillow>=8 in d:\\software\\anaconda\\lib\\site-packages (from matplotlib>=3.0.0->mlxtend) (10.3.0)\n",
      "Requirement already satisfied: pyparsing>=2.3.1 in d:\\software\\anaconda\\lib\\site-packages (from matplotlib>=3.0.0->mlxtend) (3.0.9)\n",
      "Requirement already satisfied: python-dateutil>=2.7 in d:\\software\\anaconda\\lib\\site-packages (from matplotlib>=3.0.0->mlxtend) (2.9.0.post0)\n",
      "Requirement already satisfied: pytz>=2020.1 in d:\\software\\anaconda\\lib\\site-packages (from pandas>=0.24.2->mlxtend) (2024.1)\n",
      "Requirement already satisfied: tzdata>=2022.7 in d:\\software\\anaconda\\lib\\site-packages (from pandas>=0.24.2->mlxtend) (2023.3)\n",
      "Requirement already satisfied: threadpoolctl>=2.0.0 in d:\\software\\anaconda\\lib\\site-packages (from scikit-learn>=1.3.1->mlxtend) (2.2.0)\n",
      "Requirement already satisfied: six>=1.5 in d:\\software\\anaconda\\lib\\site-packages (from python-dateutil>=2.7->matplotlib>=3.0.0->mlxtend) (1.16.0)\n",
      "Downloading mlxtend-0.23.4-py3-none-any.whl (1.4 MB)\n",
      "   ---------------------------------------- 0.0/1.4 MB ? eta -:--:--\n",
      "   ---------------------------------------- 0.0/1.4 MB ? eta -:--:--\n",
      "   ---------------------------------------- 0.0/1.4 MB ? eta -:--:--\n",
      "    --------------------------------------- 0.0/1.4 MB 217.9 kB/s eta 0:00:07\n",
      "   - -------------------------------------- 0.0/1.4 MB 245.8 kB/s eta 0:00:06\n",
      "   -- ------------------------------------- 0.1/1.4 MB 326.8 kB/s eta 0:00:04\n",
      "   --- ------------------------------------ 0.1/1.4 MB 504.4 kB/s eta 0:00:03\n",
      "   ------ --------------------------------- 0.2/1.4 MB 731.4 kB/s eta 0:00:02\n",
      "   ------- -------------------------------- 0.3/1.4 MB 862.0 kB/s eta 0:00:02\n",
      "   --------------- ------------------------ 0.5/1.4 MB 1.5 MB/s eta 0:00:01\n",
      "   ------------------- -------------------- 0.7/1.4 MB 1.7 MB/s eta 0:00:01\n",
      "   ------------------------------ --------- 1.0/1.4 MB 2.5 MB/s eta 0:00:01\n",
      "   ------------------------------ --------- 1.0/1.4 MB 2.5 MB/s eta 0:00:01\n",
      "   ------------------------------ --------- 1.0/1.4 MB 2.5 MB/s eta 0:00:01\n",
      "   ------------------------------ --------- 1.0/1.4 MB 2.5 MB/s eta 0:00:01\n",
      "   ---------------------------------------  1.4/1.4 MB 2.2 MB/s eta 0:00:01\n",
      "   ---------------------------------------- 1.4/1.4 MB 2.1 MB/s eta 0:00:00\n",
      "Installing collected packages: mlxtend\n",
      "Successfully installed mlxtend-0.23.4\n"
     ]
    }
   ],
   "source": [
    "!pip install mlxtend"
   ]
  },
  {
   "cell_type": "code",
   "execution_count": 3,
   "metadata": {
    "colab": {
     "base_uri": "https://localhost:8080/"
    },
    "id": "MwmLRyvUgJpY",
    "outputId": "a7dc3f11-d97b-4100-eb6c-e2b86df5a196"
   },
   "outputs": [],
   "source": [
    "from mlxtend.frequent_patterns import apriori\n",
    "from mlxtend.frequent_patterns import association_rules\n",
    "import pandas as pd\n",
    "\n",
    "\n"
   ]
  },
  {
   "cell_type": "code",
   "execution_count": 4,
   "metadata": {},
   "outputs": [],
   "source": [
    "# Example dataset\n",
    "dataset = [['Milk', 'Eggs', 'Bread'],\n",
    "           ['Milk', 'Diapers'],\n",
    "           ['Beer', 'Eggs'],\n",
    "           ['Milk', 'Beer', 'Diapers', 'Bread'],\n",
    "           ['Eggs', 'Beer', 'Diapers', 'Bread'],\n",
    "           ['Milk', 'Eggs', 'Diapers', 'Bread']]\n",
    "\n"
   ]
  },
  {
   "cell_type": "code",
   "execution_count": 7,
   "metadata": {},
   "outputs": [
    {
     "name": "stderr",
     "output_type": "stream",
     "text": [
      "D:\\software\\anaconda\\Lib\\site-packages\\mlxtend\\frequent_patterns\\fpcommon.py:161: DeprecationWarning: DataFrames with non-bool types result in worse computationalperformance and their support might be discontinued in the future.Please use a DataFrame with bool type\n",
      "  warnings.warn(\n"
     ]
    }
   ],
   "source": [
    "# Convert dataset into a one-hot encoded DataFrame\n",
    "#on_hot converts the items into binary 1 if item is present 0 if item is absent in the transaction \n",
    "one_hot_df = pd.DataFrame(dataset)\n",
    "one_hot_df = one_hot_df.stack().str.get_dummies().groupby(level=0).sum()\n",
    "\n",
    "# Apply the Apriori algorithm to find frequent itemsets\n",
    "frequent_itemsets = apriori(one_hot_df, min_support=0.2, use_colnames=True)\n",
    "\n",
    "# Generate association rules\n",
    "rules = association_rules(frequent_itemsets, metric='confidence', min_threshold=0.7)\n",
    "\n"
   ]
  },
  {
   "cell_type": "code",
   "execution_count": 8,
   "metadata": {},
   "outputs": [
    {
     "name": "stdout",
     "output_type": "stream",
     "text": [
      "        antecedents consequents  antecedent support  consequent support  \\\n",
      "0           (Bread)   (Diapers)            0.666667            0.666667   \n",
      "1         (Diapers)     (Bread)            0.666667            0.666667   \n",
      "2            (Eggs)     (Bread)            0.666667            0.666667   \n",
      "3           (Bread)      (Eggs)            0.666667            0.666667   \n",
      "4            (Milk)     (Bread)            0.666667            0.666667   \n",
      "5           (Bread)      (Milk)            0.666667            0.666667   \n",
      "6            (Milk)   (Diapers)            0.666667            0.666667   \n",
      "7         (Diapers)      (Milk)            0.666667            0.666667   \n",
      "8     (Beer, Bread)   (Diapers)            0.333333            0.666667   \n",
      "9   (Beer, Diapers)     (Bread)            0.333333            0.666667   \n",
      "10  (Eggs, Diapers)     (Bread)            0.333333            0.666667   \n",
      "11     (Eggs, Milk)     (Bread)            0.333333            0.666667   \n",
      "\n",
      "     support  confidence   lift  representativity  leverage  conviction  \\\n",
      "0   0.500000        0.75  1.125               1.0  0.055556    1.333333   \n",
      "1   0.500000        0.75  1.125               1.0  0.055556    1.333333   \n",
      "2   0.500000        0.75  1.125               1.0  0.055556    1.333333   \n",
      "3   0.500000        0.75  1.125               1.0  0.055556    1.333333   \n",
      "4   0.500000        0.75  1.125               1.0  0.055556    1.333333   \n",
      "5   0.500000        0.75  1.125               1.0  0.055556    1.333333   \n",
      "6   0.500000        0.75  1.125               1.0  0.055556    1.333333   \n",
      "7   0.500000        0.75  1.125               1.0  0.055556    1.333333   \n",
      "8   0.333333        1.00  1.500               1.0  0.111111         inf   \n",
      "9   0.333333        1.00  1.500               1.0  0.111111         inf   \n",
      "10  0.333333        1.00  1.500               1.0  0.111111         inf   \n",
      "11  0.333333        1.00  1.500               1.0  0.111111         inf   \n",
      "\n",
      "    zhangs_metric  jaccard  certainty  kulczynski  \n",
      "0        0.333333      0.6       0.25        0.75  \n",
      "1        0.333333      0.6       0.25        0.75  \n",
      "2        0.333333      0.6       0.25        0.75  \n",
      "3        0.333333      0.6       0.25        0.75  \n",
      "4        0.333333      0.6       0.25        0.75  \n",
      "5        0.333333      0.6       0.25        0.75  \n",
      "6        0.333333      0.6       0.25        0.75  \n",
      "7        0.333333      0.6       0.25        0.75  \n",
      "8        0.500000      0.5       1.00        0.75  \n",
      "9        0.500000      0.5       1.00        0.75  \n",
      "10       0.500000      0.5       1.00        0.75  \n",
      "11       0.500000      0.5       1.00        0.75  \n"
     ]
    }
   ],
   "source": [
    "# Display the resulting association rules\n",
    "print(rules)\n"
   ]
  },
  {
   "cell_type": "code",
   "execution_count": null,
   "metadata": {
    "id": "2aEzOetSlkDb"
   },
   "outputs": [],
   "source": []
  }
 ],
 "metadata": {
  "colab": {
   "provenance": []
  },
  "kernelspec": {
   "display_name": "Python 3 (ipykernel)",
   "language": "python",
   "name": "python3"
  },
  "language_info": {
   "codemirror_mode": {
    "name": "ipython",
    "version": 3
   },
   "file_extension": ".py",
   "mimetype": "text/x-python",
   "name": "python",
   "nbconvert_exporter": "python",
   "pygments_lexer": "ipython3",
   "version": "3.12.4"
  }
 },
 "nbformat": 4,
 "nbformat_minor": 4
}
